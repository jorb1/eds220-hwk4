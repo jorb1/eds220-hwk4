{
 "cells": [
  {
   "cell_type": "markdown",
   "id": "b279d41c-5cef-4ca5-9f56-f492f5972e2c",
   "metadata": {},
   "source": [
    "# EDS 220 - Assignment 4 - Fire Perimeter Selection\n",
    "### Student author: Bailey Jørgensen \n",
    "\n",
    "Repository Link: https://github.com/jorb1/eds220-hwk4\n",
    "\n",
    "## Task 2: Visualizing fire scars through false color\n",
    "\n",
    "### Background:\n",
    "\n",
    "The Thomas Fire, which burned over 280,000 acres in Ventura and Santa Barbara counties in December 2017, was one of California’s largest wildfires at the time. It caused widespread ecological damage, displaced communities, and left lasting environmental impacts.\n",
    "\n",
    "False color imagery, created using satellite data from instruments like Landsat, is a useful tool for monitoring wildfire impacts. By assigning infrared bands to visible colors, these images highlight vegetation health, burn severity, and the extent of fire scars. This approach helps researchers and land managers assess recovery efforts, identify high-risk areas, and plan restoration strategies.\n",
    "\n",
    "In this task, I will create a false color image of the Thomas Fire using remote sensing data, highlighting the fire scar and exploring how coding and data visualization support environmental monitoring.\n",
    "\n",
    "**About the data**\n",
    "In this task I will use two datsets. The first is a simplified collection of bands (red, green, blue, near-infrared and shortwave infrared) from the Landsat Collection 2 Level-2 atmosperically corrected surface reflectance data, collected by the Landsat 8 satellite.\n",
    "\n",
    "The data was retrieved from the Microsof Planetary Computer data catalogue and pre-processed to remove data outside land and coarsen the spatial resolution. This data should be used for visualization and educational purposes only.\n",
    "\n",
    "The second dataset will be historical open-access data about fire perimeters in California. There are several datasets with this information online. The dataset that I found is from data.gov at this link: https://catalog.data.gov/dataset/california-fire-perimeters-all-b3436. It was a particularly useful site, as there were multiple filetypes to choose from. \n",
    "\n",
    "\n",
    "\n",
    "### First up in my Analysis: \n",
    "2. Fire perimeter data retrieval and selection\n",
    "\n",
    "a. Explore the data and write a brief summary of the information you obtained from the preliminary information. Your summary should include the CRS of the data and whether this is projected or geographic.\n",
    "\n"
   ]
  },
  {
   "cell_type": "markdown",
   "id": "3948d0cd-cbf6-49a4-8156-a271ad04e4f7",
   "metadata": {},
   "source": [
    "b. From your fire perimeter data, select the Thomas Fire boundary. The fire occurred in 2017."
   ]
  },
  {
   "cell_type": "markdown",
   "id": "0ebec9cc-0790-45b4-88e6-41745e00c171",
   "metadata": {},
   "source": [
    "c. Save only the 2017 Thomas Fire boundary as a geospatial file in the format of your choosing. The file should go into the data/ directory in your repository."
   ]
  },
  {
   "cell_type": "markdown",
   "id": "425bcddf-5b88-4c78-8b8e-faad8cc32b3e",
   "metadata": {},
   "source": [
    "d. In a markdown cell, briefly explain your reasoning for selecting that specific file format."
   ]
  }
 ],
 "metadata": {
  "kernelspec": {
   "display_name": "Anaconda 3 (EDS220)",
   "language": "python",
   "name": "eds220-env"
  },
  "language_info": {
   "codemirror_mode": {
    "name": "ipython",
    "version": 3
   },
   "file_extension": ".py",
   "mimetype": "text/x-python",
   "name": "python",
   "nbconvert_exporter": "python",
   "pygments_lexer": "ipython3",
   "version": "3.11.4"
  }
 },
 "nbformat": 4,
 "nbformat_minor": 5
}
