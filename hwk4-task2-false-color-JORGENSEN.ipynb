{
 "cells": [
  {
   "cell_type": "markdown",
   "id": "2cdecacd-3e70-49ee-8758-619f71353f69",
   "metadata": {},
   "source": [
    "# EDS 220 - Assignment 4 - False Color Analysis\n",
    "### Student author: Bailey Jørgensen \n",
    "\n",
    "Repository Link: https://github.com/jorb1/eds220-hwk4\n",
    "\n",
    "## Task 2 Continuation: Visualizing fire scars through false color\n",
    "\n",
    "### Background:\n",
    "\n",
    "The Thomas Fire, which burned over 280,000 acres in Ventura and Santa Barbara counties in December 2017, was one of California’s largest wildfires at the time. It caused widespread ecological damage, displaced communities, and left lasting environmental impacts.\n",
    "\n",
    "False color imagery, created using satellite data from instruments like Landsat, is a useful tool for monitoring wildfire impacts. By assigning infrared bands to visible colors, these images highlight vegetation health, burn severity, and the extent of fire scars. This approach helps researchers and land managers assess recovery efforts, identify high-risk areas, and plan restoration strategies.\n",
    "\n",
    "In this task, I will create a false color image of the Thomas Fire using remote sensing data, highlighting the fire scar and exploring how coding and data visualization support environmental monitoring.\n",
    "\n",
    "**About the data**\n",
    "In this task I will use two datsets. The first is a simplified collection of bands (red, green, blue, near-infrared and shortwave infrared) from the Landsat Collection 2 Level-2 atmosperically corrected surface reflectance data, collected by the Landsat 8 satellite.\n",
    "\n",
    "The data was retrieved from the Microsof Planetary Computer data catalogue and pre-processed to remove data outside land and coarsen the spatial resolution. This data should be used for visualization and educational purposes only.\n",
    "\n",
    "The second dataset will be historical open-access data about fire perimeters in California. There are several datasets with this information online. The dataset that I found is from data.gov at this link: https://catalog.data.gov/dataset/california-fire-perimeters-all-b3436. It was a particularly useful site, as there were multiple filetypes to choose from. \n",
    "\n"
   ]
  },
  {
   "cell_type": "markdown",
   "id": "52283d9f-5d89-42d1-bf0d-2d3936bcb77a",
   "metadata": {},
   "source": [
    "## Next up: \n",
    "\n",
    "3. True color image\n",
    "Construct a file path to the Landsat data using os and import it using rioxr.open_rasterio().\n",
    "\n",
    "Explore the data and write a brief summary of the information you obtained from the preliminary information. Your summary should include the a description of the data’s variables and dimensions.\n",
    "\n",
    "Drop the band dimension of the data. HINT: squeeze() and drop_vars().\n",
    "\n",
    "Without creating any new variables:\n",
    "\n",
    "select the red, green, and blue variables (in that order) of the xarray.Dataset holding the Landsat data,\n",
    "convert it to a numpy.array using the to_array() method, and then\n",
    "use .plot.imshow() to create an RGB image with the data. There will be a warning, that’s ok.\n",
    "Adjust the scale used for plotting the bands to get a true color image. HINT: Check the robust parameter. The issue here is the clouds: their RGB values are outliers and cause the other values to be squished when plotting.\n",
    "\n",
    "In a markdown cell write a brief explanation comparing the ouputs for parts (a) and (b).\n",
    "\n",
    "4. False color image\n",
    "Without creating any new variables, create a false color image by plotting the short-wave infrared (swir22), near-infrared, and red variables (in that order).\n",
    "\n",
    "5. Map\n",
    "Create a map showing the shortwave infrared/near-infrared/red false color image together with the Thomas Fire perimeter. Customize it appropriately including, at least, an informative title and legend.\n",
    "\n",
    "Write a figure description for the map including a brief explanation of how false color imagery is being used."
   ]
  },
  {
   "cell_type": "code",
   "execution_count": null,
   "id": "b760b815-1e19-4d3b-8c5f-fe0aa9428796",
   "metadata": {},
   "outputs": [],
   "source": []
  }
 ],
 "metadata": {
  "kernelspec": {
   "display_name": "Anaconda 3 (EDS220)",
   "language": "python",
   "name": "eds220-env"
  },
  "language_info": {
   "codemirror_mode": {
    "name": "ipython",
    "version": 3
   },
   "file_extension": ".py",
   "mimetype": "text/x-python",
   "name": "python",
   "nbconvert_exporter": "python",
   "pygments_lexer": "ipython3",
   "version": "3.11.4"
  }
 },
 "nbformat": 4,
 "nbformat_minor": 5
}
